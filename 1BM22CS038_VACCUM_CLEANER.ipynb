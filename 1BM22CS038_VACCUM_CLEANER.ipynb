{
  "nbformat": 4,
  "nbformat_minor": 0,
  "metadata": {
    "colab": {
      "provenance": []
    },
    "kernelspec": {
      "name": "python3",
      "display_name": "Python 3"
    },
    "language_info": {
      "name": "python"
    }
  },
  "cells": [
    {
      "cell_type": "code",
      "execution_count": 1,
      "metadata": {
        "id": "SYGN5RvNOoUZ",
        "outputId": "d441dac0-1bd7-4c44-976e-d7992ff66864",
        "colab": {
          "base_uri": "https://localhost:8080/"
        }
      },
      "outputs": [
        {
          "output_type": "stream",
          "name": "stdout",
          "text": [
            "Anagha Bharadwaj\n",
            "1BM22CS038\n",
            "\n",
            "Before cleaning...\n",
            "\n",
            "Floor:\n",
            "1 1 \n",
            "0 1 \n",
            "\n",
            "Cleaning process....\n",
            "\n",
            "Floor:\n",
            "0 1 \n",
            "0 1 \n",
            "first block cleaned and moving right\n",
            "\n",
            "Floor:\n",
            "0 0 \n",
            "0 1 \n",
            "second block cleaned and moving down\n",
            "\n",
            "Floor:\n",
            "0 0 \n",
            "0 0 \n",
            "fourth block cleaned and moving left\n"
          ]
        }
      ],
      "source": [
        "import random\n",
        "def print_floor(arr):\n",
        "    print(\"\\nFloor:\")\n",
        "    for m in range(2):\n",
        "      for n in range(2):\n",
        "        print(arr[m][n], end=\" \")\n",
        "      print()\n",
        "\n",
        "def clean_room(arr):\n",
        "    if(arr[0][0] == 1):\n",
        "        arr[0][0] = 0\n",
        "        print_floor(arr)\n",
        "        print(\"first block cleaned and moving right\")\n",
        "    else:\n",
        "        print(\"\\nfirst block is clean so moving right\")\n",
        "    if(arr[0][1] == 1):\n",
        "        arr[0][1] = 0\n",
        "        print_floor(arr)\n",
        "        print(\"second block cleaned and moving down\")\n",
        "    else:\n",
        "        print(\"\\nsecond block is clean so moving down\")\n",
        "    if(arr[1][1] == 1):\n",
        "        arr[1][1] = 0\n",
        "        print_floor(arr)\n",
        "        print(\"fourth block cleaned and moving left\")\n",
        "    else:\n",
        "        print(\"\\nfourth block is clean so moving left\")\n",
        "\n",
        "    if(arr[1][0] == 1):\n",
        "        arr[1][0] = 0\n",
        "        print_floor(arr)\n",
        "        print(\"cleaning done\")\n",
        "\n",
        "\n",
        "floor = [[0,0],[0,0]]\n",
        "for i in range(2):\n",
        "    for j in range(2):\n",
        "        floor[i][j] = random.randint(0, 1)\n",
        "\n",
        "print(\"Anagha Bharadwaj\\n1BM22CS038\\n\")\n",
        "print(\"Before cleaning...\")\n",
        "print_floor(floor)\n",
        "\n",
        "print(\"\\nCleaning process....\")\n",
        "clean_room(floor)\n"
      ]
    }
  ]
}