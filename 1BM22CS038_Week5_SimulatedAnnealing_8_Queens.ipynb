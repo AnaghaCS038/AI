{
  "nbformat": 4,
  "nbformat_minor": 0,
  "metadata": {
    "colab": {
      "provenance": []
    },
    "kernelspec": {
      "name": "python3",
      "display_name": "Python 3"
    },
    "language_info": {
      "name": "python"
    }
  },
  "cells": [
    {
      "cell_type": "code",
      "source": [
        "\n",
        "import six\n",
        "import sys\n",
        "sys.modules['sklearn.externals.six'] = six\n",
        "import mlrose_hiive as mlrose\n",
        "import numpy as np\n",
        "\n",
        "def queens_max(position):\n",
        "    # We start the count\n",
        "    no_attack_on_j = 0\n",
        "    queen_not_attacking = 0\n",
        "\n",
        "    # Compare for each pair of queens\n",
        "    for i in range(len(position) - 1):\n",
        "        no_attack_on_j = 0\n",
        "        for j in range(i + 1, len(position)):\n",
        "            # Check if there is any diagonal or horizontal attack.\n",
        "            # Iterative process for each column\n",
        "            if (position[j] != position[i]) and (position[j] != position[i] + (j - i)) and (position[j] != position[i] - (j - i)):\n",
        "                # If there isn't any attack on the evaluated column. The count is increased by one.\n",
        "                no_attack_on_j += 1\n",
        "\n",
        "                # If there is no attack on all the columns. The general counter is increased by one.\n",
        "                # This counter indicates the number of queens that are correctly positioned.\n",
        "                if no_attack_on_j == len(position) - 1 - i:\n",
        "                    queen_not_attacking += 1\n",
        "\n",
        "    # If 7 queens are positioned correctly, add 1 because it means the last queen is also free of attack.\n",
        "    if queen_not_attacking == 7:\n",
        "        queen_not_attacking += 1\n",
        "\n",
        "    return queen_not_attacking\n",
        "\n",
        "objective = mlrose.CustomFitness(queens_max)\n",
        "\n",
        "\n",
        "problem = mlrose.DiscreteOpt(length=8, fitness_fn=objective, maximize=True, max_val=8)\n",
        "\n",
        "\n",
        "T = mlrose.ExpDecay()\n",
        "\n",
        "\n",
        "initial_position = np.array([4, 6, 1, 5, 2, 0, 3, 7])\n",
        "\n",
        "\n",
        "best_state, best_fitness, curve = mlrose.simulated_annealing(problem=problem, schedule=T,\n",
        "                                                          max_attempts=50, max_iters=1000,\n",
        "                                                          init_state=initial_position)\n",
        "\n",
        "\n",
        "print('The best position found is: ', best_state)\n",
        "print('The number of queens that are not attacking each other is: ', best_fitness)\n"
      ],
      "metadata": {
        "colab": {
          "base_uri": "https://localhost:8080/"
        },
        "id": "Uzs319oKgSep",
        "outputId": "767384d6-6287-4414-b17c-a20363b2952d"
      },
      "execution_count": 4,
      "outputs": [
        {
          "output_type": "stream",
          "name": "stdout",
          "text": [
            "The best position found is:  [7 3 0 2 5 1 6 4]\n",
            "The number of queens that are not attacking each other is:  8.0\n"
          ]
        }
      ]
    }
  ]
}