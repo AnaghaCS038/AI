{
  "nbformat": 4,
  "nbformat_minor": 0,
  "metadata": {
    "colab": {
      "provenance": []
    },
    "kernelspec": {
      "name": "python3",
      "display_name": "Python 3"
    },
    "language_info": {
      "name": "python"
    }
  },
  "cells": [
    {
      "cell_type": "code",
      "source": [
        "import itertools\n",
        "\n",
        "# Define the logical operators\n",
        "def implies_logic(a, b):\n",
        "    return not a or b\n",
        "\n",
        "def negation(x):\n",
        "    return not x\n",
        "\n",
        "def or_operator(x, y):\n",
        "    return x or y\n",
        "\n",
        "# Define the evaluation function for the knowledge base (KB) and the query expressions (alpha)\n",
        "def evaluate_knowledge_base(var1, var2, var3):\n",
        "    # Knowledge base contains:\n",
        "    # 1. var1 -> var2\n",
        "    # 2. var2 -> ~var1\n",
        "    # 3. var1 v var3\n",
        "    rule1 = implies_logic(var1, var2)\n",
        "    rule2 = implies_logic(var2, negation(var1))\n",
        "    rule3 = or_operator(var1, var3)\n",
        "\n",
        "    return rule1 and rule2 and rule3\n",
        "\n",
        "def evaluate_expression_alpha1(var3):\n",
        "    # Expression 1: Just check if var3 is True\n",
        "    return var3\n",
        "\n",
        "def evaluate_expression_alpha2(var3, var2):\n",
        "    # Expression 2: implies(var3, var2) => var3 -> var2\n",
        "    return implies_logic(var3, var2)\n",
        "\n",
        "def evaluate_expression_alpha3(var1, var3):\n",
        "    # Expression 3: implies(var1, var3) => var1 -> var3\n",
        "    return implies_logic(var1, var3)\n",
        "\n",
        "# Generate all combinations of truth values for var1, var2, var3\n",
        "def generate_truth_combinations():\n",
        "    return list(itertools.product([False, True], repeat=3))\n",
        "\n",
        "# Check if the knowledge base (KB) entails the alpha expressions for the given variables\n",
        "def check_logical_entailment():\n",
        "    combinations = generate_truth_combinations()\n",
        "    results = {\n",
        "        \"R\": \"Yes\",\n",
        "        \"implies(R, P)\": \"Yes\",\n",
        "        \"implies(Q, R)\": \"Yes\"\n",
        "    }\n",
        "\n",
        "    # Print the truth table header with aligned columns and some space between KB and alpha columns\n",
        "    print(f\"{'var1':<5}{'var2':<5}{'var3':<5}{'KB':<5}{' ' * 5}{'R':<15}{'implies(R, P)':<20}{'implies(Q, R)':<20}\")\n",
        "    print(\"-\" * 85)\n",
        "\n",
        "    # Iterate through the truth table for var1, var2, var3\n",
        "    for var1, var2, var3 in combinations:\n",
        "        # Evaluate the knowledge base\n",
        "        kb_value = evaluate_knowledge_base(var1, var2, var3)\n",
        "        kb_status = \"True\" if kb_value else \"False\"\n",
        "\n",
        "        # Evaluate each alpha expression\n",
        "        alpha1_value = evaluate_expression_alpha1(var3)  # R\n",
        "        alpha2_value = evaluate_expression_alpha2(var3, var2)  # implies(R, P)\n",
        "        alpha3_value = evaluate_expression_alpha3(var1, var3)  # implies(Q, R)\n",
        "\n",
        "        # Print the current row of the truth table with proper formatting\n",
        "        print(f\"{var1:<5}{var2:<5}{var3:<5}{kb_status:<5}{' ' * 5}{str(alpha1_value):<15}{str(alpha2_value):<20}{str(alpha3_value):<20}\")\n",
        "\n",
        "        # Check if KB entails each alpha expression (if KB is True, then the alpha should be True)\n",
        "        if kb_value and not alpha1_value:\n",
        "            results[\"R\"] = \"No\"\n",
        "\n",
        "        if kb_value and not alpha2_value:\n",
        "            results[\"implies(R, P)\"] = \"No\"\n",
        "\n",
        "        if kb_value and not alpha3_value:\n",
        "            results[\"implies(Q, R)\"] = \"No\"\n",
        "\n",
        "    # Print the results of whether KB entails each alpha expression\n",
        "    print(\"\\nEntailment Results:\")\n",
        "    for alpha, result in results.items():\n",
        "        print(f\"KB entails {alpha}: {result}\")\n",
        "\n",
        "# Run the entailment check\n",
        "check_logical_entailment()\n"
      ],
      "metadata": {
        "colab": {
          "base_uri": "https://localhost:8080/"
        },
        "id": "43DP1r6xlCD8",
        "outputId": "349a25e4-47d4-4be0-bff7-080524252468"
      },
      "execution_count": 10,
      "outputs": [
        {
          "output_type": "stream",
          "name": "stdout",
          "text": [
            "var1 var2 var3 KB        R              implies(R, P)       implies(Q, R)       \n",
            "-------------------------------------------------------------------------------------\n",
            "0    0    0    False     False          True                True                \n",
            "0    0    1    True      True           False               True                \n",
            "0    1    0    False     False          True                True                \n",
            "0    1    1    True      True           True                True                \n",
            "1    0    0    False     False          True                False               \n",
            "1    0    1    False     True           False               True                \n",
            "1    1    0    False     False          True                False               \n",
            "1    1    1    False     True           True                True                \n",
            "\n",
            "Entailment Results:\n",
            "KB entails R: Yes\n",
            "KB entails implies(R, P): No\n",
            "KB entails implies(Q, R): Yes\n"
          ]
        }
      ]
    }
  ]
}