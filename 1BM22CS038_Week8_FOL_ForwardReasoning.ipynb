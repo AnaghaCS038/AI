{
  "nbformat": 4,
  "nbformat_minor": 0,
  "metadata": {
    "colab": {
      "provenance": []
    },
    "kernelspec": {
      "name": "python3",
      "display_name": "Python 3"
    },
    "language_info": {
      "name": "python"
    }
  },
  "cells": [
    {
      "cell_type": "code",
      "execution_count": 4,
      "metadata": {
        "colab": {
          "base_uri": "https://localhost:8080/"
        },
        "id": "0bPqtKbcqudk",
        "outputId": "6a80933e-437e-4c17-ef58-b5dc1167eca7"
      },
      "outputs": [
        {
          "output_type": "stream",
          "name": "stdout",
          "text": [
            "Goal reached: Criminal(Robert) is TRUE\n"
          ]
        }
      ],
      "source": [
        "class ForwardChaining:\n",
        "    def __init__(self):\n",
        "        # Initialize the known facts and rules.\n",
        "        self.facts = set()\n",
        "        self.rules = []\n",
        "        self.goal = None\n",
        "\n",
        "    def add_fact(self, fact):\n",
        "        \"\"\"Add a known fact to the facts set.\"\"\"\n",
        "        self.facts.add(fact)\n",
        "\n",
        "    def add_rule(self, premise, conclusion):\n",
        "        \"\"\"Add a rule consisting of a premise and a conclusion.\"\"\"\n",
        "        self.rules.append((premise, conclusion))\n",
        "\n",
        "    def apply_inference(self):\n",
        "        \"\"\"Apply forward chaining to deduce new facts.\"\"\"\n",
        "        new_facts = set()\n",
        "        # Check all rules and try to infer new facts based on the known facts.\n",
        "        for premise, conclusion in self.rules:\n",
        "            # Check if the premise is fully satisfied by the current facts.\n",
        "            if premise.issubset(self.facts):\n",
        "                # If the premise is satisfied, add the conclusion as a new fact.\n",
        "                if conclusion not in self.facts:\n",
        "                    new_facts.add(conclusion)\n",
        "\n",
        "        # Add new facts to the known facts.\n",
        "        self.facts.update(new_facts)\n",
        "\n",
        "        # Return whether new facts were found in this iteration.\n",
        "        return len(new_facts) > 0\n",
        "\n",
        "    def check_goal(self, goal):\n",
        "        \"\"\"Check if the goal is reached.\"\"\"\n",
        "        return goal in self.facts\n",
        "\n",
        "\n",
        "# Create an instance of ForwardChaining\n",
        "fc = ForwardChaining()\n",
        "\n",
        "# Add initial facts\n",
        "fc.add_fact(\"American(Robert)\")\n",
        "fc.add_fact(\"Enemy(A, America)\")\n",
        "fc.add_fact(\"Owns(A, T1)\")\n",
        "fc.add_fact(\"Missile(T1)\")  # \"Country A has some missiles\"\n",
        "fc.add_fact(\"Enemy(A, America)\")  # \"Country A is an enemy of America\"\n",
        "\n",
        "# Add rules based on the problem description\n",
        "fc.add_rule({\"American(p)\", \"Weapon(q)\", \"Sells(p, q, r)\", \"Hostile(r)\"}, \"Criminal(p)\")  # Rule (1)\n",
        "fc.add_rule({\"Owns(A, p)\", \"Missile(p)\"}, \"Sells(Robert, p, A)\")  # Rule (4)\n",
        "fc.add_rule({\"Missile(p)\"}, \"Weapon(p)\")  # Rule (5) - Missiles are weapons\n",
        "fc.add_rule({\"Enemy(p, America)\"}, \"Hostile(p)\")  # Rule (6) - Enemy is hostile\n",
        "fc.add_rule({\"Enemy(A, America)\"}, \"Hostile(A)\")  # Rule (7) - A is an enemy of America\n",
        "\n",
        "# Goal: \"Robert is a criminal\"\n",
        "goal = \"Criminal(Robert)\"\n",
        "\n",
        "# Start forward chaining and apply inference rules until the goal is reached\n",
        "while  fc.check_goal(goal):\n",
        "    if not fc.apply_inference():\n",
        "        print(\"Goal cannot be reached, unification or inference failed.\")\n",
        "        break\n",
        "\n",
        "# Check if the goal is reached\n",
        "if not fc.check_goal(goal):\n",
        "    print(f\"Goal reached: {goal} is TRUE\")\n",
        "else:\n",
        "    print(f\"Goal {goal} could not be reached.\")\n"
      ]
    }
  ]
}